{
 "cells": [
  {
   "cell_type": "markdown",
   "metadata": {
    "collapsed": true
   },
   "source": [
    "# Machine Learning Project\n",
    "## Articles Analysis with Machine Learning"
   ]
  },
  {
   "cell_type": "markdown",
   "metadata": {},
   "source": [
    "### Revisando a proposta\n",
    "\n",
    "#### Background:\n",
    "\n",
    "Todos os dias pesquisadores, estudantes de graduação, mestrado, doutorado, curiosos estão descobrindo e escrevendo sobre nossa visão do mundo, artigos sobre astronomia, psicologia, informática, engenharia mecânica, entre outros, questionam e encontram informações sobre pequenas, grandes, estranhas, importantes ou inúteis descobertas. Se separarmos uma certa área específica, será que uma pessoa é capaz de ler, entender, conversar com os autores daquele assunto? Num mundo tão grande, com uma produção tão vasta, é difícil.\n",
    "\n",
    "Em 2011, por exemplo, os pesquisadores brasileiros publicaram 49.664 artigos 2, olhando o mapa acima, talvez no mesmo ano, os Estados Unidos tenham publicado cerca de 20 vezes mais. Mas a disputa aqui não é sobre quem publica mais, mas sim, sobre seria possível consumir uma quantidade grande de produção científica.\n",
    "\n",
    "O trabalho acadêmico tem por critério de qualidade, geralmente, a originalidade do trabalho, os pesquisadores citam em seus projetos descobertas originais, ou aplicação de métodos em novos tipos de dados, entre outras maneiras, porém de alguma forma estes pesquisadores estão ligados, por seus assuntos ou por métodos utilizados, o mundo científico também adotou a interdisciplinaridade, por vezes alguns artigos de medicina irão usar técnicas de ciências da computação ou matemática para comprovar uma descoberta, a arte pode usar a física, a física pode usar a psicologia.\n",
    "\n",
    "Então se alguém escreve, ou se vai escrever sobre um assunto, quem são as outras pessoas da área dela, ou não, que estão produzindo sobre assuntos que dividem características com as essas publicações, se uma universidade ou revista quiser saber quais autores tem mais similaridade nos métodos usados, ou nos dados pesquisados, como unir essa informação sem ter que ler toda a volumosa produção científica que o mundo produz?\n",
    "\n",
    "#### Problema e Justificativa:\n",
    "\n",
    "Analisar em que revistas este artigo tem mais probabilidade de sucesso de aceitação, sabendo quais grupos as revistas mais publicam. Este algoritmo poderia ser o mesmo utilizado para agrupar os dados, no entanto, para explorar mais ferramentas de aprendizado de máquina, será utilizado um algoritmo para classificação, utilizando como variável alvo o grupo encontrado na etapa de agrupamento. \n",
    "\n",
    "#### Solução Proposta:\n",
    "\n",
    "A solução e objetivos propostos são:\n",
    "Utilizar processamento de linguagem natural para ler resumos de artigos científicos e encontrar palavras importantes para classificar seus autores;\n",
    "Clusterizar os autores e revistas onde os artigos foram publicados para encontrar grupos naturalmente formados;\n",
    "Prever a possibilidade de um autor fazer parte de um grupo de autores ou de publicar em uma revista;\n",
    "\n",
    "(O autor propôs esta solução para utilizar aprendizagem supervisionada e não supervisionada no exercício final).\n",
    "\n",
    "#### Solução Proposta pelo Orientador:\n",
    "\n",
    "Criar um algortimo de aprendizagem supervisionada e já utilizar as revistas como variável alvo, sem a necessidade de realizar clusterização."
   ]
  },
  {
   "cell_type": "markdown",
   "metadata": {},
   "source": [
    "### Iniciando o projeto\n",
    "\n",
    "Alguns pacotes foram criados para auxiliar a execução do projeto, os mesmos podem ser acessados no diretório do github, todas as classes e scripts criados possuem docstring para detalhar a utilização dos mesmos. O objetivo era deixar no notebook apenas as partes mais importantes."
   ]
  },
  {
   "cell_type": "markdown",
   "metadata": {},
   "source": [
    "### Conjunto de dados e inputs\n",
    "\n",
    "Os artigos foram coletados, manualmente, no site (https://www.ncbi.nlm.nih.gov/pubmed/). No entanto, em vez de utilizar os artigos no formato .nbib, como ideaizado no projeto, será utilizado arquivos .xml.\n",
    "\n",
    "Eles estão no idioma inglês, para evitar erros de viés durante a elaboração dos algoritmos, todos os artigos deste website são sobre medicina, de modo que possamos reduzir o grupo de observação e não coletar dados extremamente distantes que não sejam efetivos no momento da construção do algoritmo."
   ]
  },
  {
   "cell_type": "code",
   "execution_count": 40,
   "metadata": {
    "scrolled": true
   },
   "outputs": [
    {
     "name": "stdout",
     "output_type": "stream",
     "text": [
      "Número total de artigos: 124\n",
      "Número de atributos: 491\n",
      "\n",
      "Basic & clinical pharmacology & toxicology 17\n",
      "Child psychiatry and human development 15\n",
      "Clinical psychology & psychotherapy 20\n",
      "Drug and alcohol dependence 17\n",
      "Journal of affective disorders 20\n",
      "Neuropharmacology 17\n",
      "Psychiatry investigation 18\n"
     ]
    }
   ],
   "source": [
    "import numpy as np\n",
    "import pandas as pd\n",
    "\n",
    "import os\n",
    "import glob\n",
    "import xml.etree.ElementTree\n",
    "\n",
    "# Important nltk packages you might download to execute the codes\n",
    "# nltk.download('punkt')\n",
    "# nltk.download('averaged_perceptron_tagger')\n",
    "# nltk.download('maxent_ne_chunker')\n",
    "# nltk.download('words')\n",
    "# nltk.download('stopwords')\n",
    "\n",
    "%matplotlib inline\n",
    "import matplotlib.pyplot as plt\n",
    "\n",
    "from custom_entities.article import ArticleData\n",
    "from custom_helpers.pandas_helper import insert_article_to_pandas\n",
    "\n",
    "# Path of folder with all articles\n",
    "# path = 'C:/Users/Paulo/Documents/PyCharmProjects/papers_abstract_analysis/papers'\n",
    "path = 'C:/Users/Paulo Henrique/PycharmProjects/papers_abstract_analysis/papers'\n",
    "\n",
    "df = pd.DataFrame()\n",
    "\n",
    "for filename in glob.glob(os.path.join(path, '*.xml')):\n",
    "    root = xml.etree.ElementTree.parse(filename).getroot()\n",
    "    article = ArticleData(root)\n",
    "    df = insert_article_to_pandas(df, article)\n",
    "    \n",
    "df = df.fillna(0)\n",
    "\n",
    "n_articles = len(df.index)\n",
    "n_features = len(df.columns) - 1\n",
    "# Imprime os resultados\n",
    "print \"Número total de artigos: {}\".format(n_articles)\n",
    "print \"Número de atributos: {}\\n\".format(n_features)\n",
    "\n",
    "current_columns = []\n",
    "\n",
    "for index, row in (df.groupby(['.JOURNAL']).count()).iterrows():\n",
    "    current_columns.append(index)\n",
    "    print index, row[0]\n",
    "\n",
    "result_df = pd.DataFrame(columns=current_columns)"
   ]
  },
  {
   "cell_type": "markdown",
   "metadata": {},
   "source": [
    "## Classificador com revista como variável alvo\n",
    "### Separação da variável alvo\n",
    "\n",
    "Inicialmente será criado um classificador usando as revistas como variváveis alvo."
   ]
  },
  {
   "cell_type": "code",
   "execution_count": 41,
   "metadata": {},
   "outputs": [
    {
     "name": "stdout",
     "output_type": "stream",
     "text": [
      "Colunas de atributos (Primeiras 40):\n",
      "['abstin', 'access', 'accommod', 'acetaminophen', 'across', 'action', 'activ', 'addict', 'adolesc', 'adrenerg', 'adult', 'adulthood', 'affair', 'affect', 'agent', 'aggress', 'alcohol', 'alexithymia', 'allianc', 'almost', 'although', 'aluminium', 'amazon', 'ambival', 'among', 'analges', 'analysi', 'androstan', 'anesthet', 'anti-epilept', 'antibiot', 'antidepress', 'anxieti', 'anxiou', 'apach', 'aptam', 'arson', 'assert', 'assess', 'associ']\n",
      "\n",
      "Coluna-alvo: .JOURNAL\n"
     ]
    }
   ],
   "source": [
    "# Extrair coluna de atributos\n",
    "feature_cols = list(df.columns[1:])\n",
    "\n",
    "# Extrair coluna alvo\n",
    "target_col = df.columns[0] \n",
    "\n",
    "# Mostre a lista de colunas\n",
    "print \"Colunas de atributos (Primeiras 40):\\n{}\".format(feature_cols[0:40])\n",
    "print \"\\nColuna-alvo: {}\".format(target_col)\n",
    "\n",
    "# Separação do data_set de atributos e alvo\n",
    "X_all = df[feature_cols]\n",
    "y_all = df[target_col]"
   ]
  },
  {
   "cell_type": "markdown",
   "metadata": {},
   "source": [
    "### Divisão dos Dados de Treinamento e Teste\n",
    "\n",
    "Embaralhar aleatoriamente os dados (X_all, y_all) em subconjuntos de treinamento e teste.\n",
    "    > Utilizar 75% de dados em treinamento 25% em teste.\n",
    "    > Armazenar os resultados em X_train, X_test, y_train e y_test."
   ]
  },
  {
   "cell_type": "code",
   "execution_count": 42,
   "metadata": {},
   "outputs": [
    {
     "name": "stdout",
     "output_type": "stream",
     "text": [
      "O conjunto de treinamento tem 114 amostras.\n",
      "O conjunto de teste tem 10 amostras.\n"
     ]
    }
   ],
   "source": [
    "# Importar divisor de amostra\n",
    "from sklearn.cross_validation import train_test_split\n",
    "\n",
    "# teste\n",
    "num_test = 10\n",
    "custom_random_state = 32\n",
    "\n",
    "# Emabaralhe e distribua o conjunto de dados de acordo com o número de pontos de treinamento e teste abaixo\n",
    "X_train, X_test, y_train, y_test = train_test_split(X_all, y_all, test_size=num_test, random_state=custom_random_state)\n",
    "\n",
    "# Mostre o resultado da distribuição\n",
    "print \"O conjunto de treinamento tem {} amostras.\".format(X_train.shape[0])\n",
    "print \"O conjunto de teste tem {} amostras.\".format(X_test.shape[0])"
   ]
  },
  {
   "cell_type": "markdown",
   "metadata": {},
   "source": [
    "### Utilidades para ajustar treinamento\n",
    "\n",
    "Implemtanção de métodos para auxiliar o treinamento e visão de resultados"
   ]
  },
  {
   "cell_type": "code",
   "execution_count": 43,
   "metadata": {},
   "outputs": [],
   "source": [
    "#implemtação de codigo para imprimir o markdown sozinho :)\n",
    "from time import time\n",
    "from sklearn.metrics import accuracy_score\n",
    "\n",
    "global col_1\n",
    "global col_2\n",
    "global col_3\n",
    "global col_4\n",
    "global col_5\n",
    "col_1 = 'Tamanho do Conj de Treinamento'\n",
    "col_2 = 'Tempo de Treinamento'\n",
    "col_3 = 'Tempo de Estimativa (teste)'\n",
    "col_4 = 'Pontuacao Accuracy (treinamento)'\n",
    "col_5 = 'Pontuacao Accuracy (teste)'\n",
    "\n",
    "global df_model\n",
    "df_model = pd.DataFrame(columns=[col_1, col_2, col_3, col_4, col_5])\n",
    "df_backup = df_model.copy()\n",
    "\n",
    "def pandas_df_to_markdown_table(df):\n",
    "    '''\n",
    "    Função para tabular com markdown.\n",
    "    Creditos para o autor na publicação abaixo.\n",
    "    Acessado em https://stackoverflow.com/questions/33181846/programmatically-convert-pandas-dataframe-to-markdown-table\n",
    "    '''\n",
    "    from IPython.display import Markdown, display\n",
    "    fmt = ['---' for i in range(len(df.columns))]\n",
    "    df_fmt = pd.DataFrame([fmt], columns=df.columns)\n",
    "    df_formatted = pd.concat([df_fmt, df])\n",
    "    display(Markdown(df_formatted.to_csv(sep=\"|\", index=False)))"
   ]
  },
  {
   "cell_type": "code",
   "execution_count": 44,
   "metadata": {},
   "outputs": [],
   "source": [
    "def train_classifier(clf, X_train, y_train, index=None):\n",
    "    ''' Ajusta um classificador para os dados de treinamento. '''\n",
    "    \n",
    "    # Inicia o relógio, treina o classificador e, então, para o relógio\n",
    "    start = time()\n",
    "    clf.fit(X_train, y_train)\n",
    "    end = time()\n",
    "    \n",
    "    # Imprime os resultados\n",
    "    print \"O modelo foi treinado em {:.4f} segundos\".format(end - start)\n",
    "    if index:\n",
    "        df_model.loc[index,col_2] = \"{:.4f} seg\".format(end - start)\n",
    "\n",
    "    \n",
    "def predict_labels(clf, features, target, index=None):\n",
    "    ''' Faz uma estimativa utilizando um classificador ajustado baseado na pontuação F1. '''\n",
    "    \n",
    "    # Inicia o relógio, faz estimativas e, então, o relógio para\n",
    "    start = time()\n",
    "    y_pred = clf.predict(features)\n",
    "    end = time()\n",
    "    \n",
    "    # Imprime os resultados de retorno\n",
    "    print \"As previsões foram feitas em {:.4f} segundos.\".format(end - start)\n",
    "    if index:\n",
    "        df_model.loc[index, col_3] = \"{:.4f} seg\".format(end - start)\n",
    "    \n",
    "    return accuracy_score(target.values, y_pred)\n",
    "\n",
    "\n",
    "def train_predict(clf, X_train, y_train, X_test, y_test):\n",
    "    ''' Treina e faz estimativas utilizando um classificador baseado na pontuação do F1. '''\n",
    "    \n",
    "    index = len(X_train)\n",
    "    \n",
    "    # Indica o tamanho do classificador e do conjunto de treinamento\n",
    "    print \"Treinando um {} com {} pontos de treinamento. . .\".format(clf.__class__.__name__, index)\n",
    "    df_model.loc[index, col_1] = index\n",
    "    \n",
    "    # Treina o classificador\n",
    "    train_classifier(clf, X_train, y_train, index)\n",
    "    \n",
    "    # Imprime os resultados das estimativas de ambos treinamento e teste\n",
    "    time_train = predict_labels(clf, X_train, y_train, index)\n",
    "    time_test = predict_labels(clf, X_test, y_test, index)\n",
    "    print \"Pontuação accuracy_score para o conjunto de treino: {:.4f}.\".format(time_train)\n",
    "    print \"Pontuação accuracy_score para o conjunto de teste: {:.4f}.\".format(time_test)\n",
    "    df_model.loc[index, col_4] = \"{:.4f}.\".format(time_train)\n",
    "    df_model.loc[index, col_5] = \"{:.4f}.\".format(time_test)"
   ]
  },
  {
   "cell_type": "markdown",
   "metadata": {},
   "source": [
    "### Métricas de Desempenho do Modelo\n",
    "\n",
    "Implemtanção de métodos para auxiliar o treinamento e visão de resultados."
   ]
  },
  {
   "cell_type": "code",
   "execution_count": 45,
   "metadata": {},
   "outputs": [
    {
     "name": "stdout",
     "output_type": "stream",
     "text": [
      "Treinando um LogisticRegression com 114 pontos de treinamento. . .\n",
      "O modelo foi treinado em 0.0070 segundos\n",
      "As previsões foram feitas em 0.0010 segundos.\n",
      "As previsões foram feitas em 0.0010 segundos.\n",
      "Pontuação accuracy_score para o conjunto de treino: 0.9649.\n",
      "Pontuação accuracy_score para o conjunto de teste: 0.4000.\n",
      "\n",
      "Treinando um DecisionTreeClassifier com 114 pontos de treinamento. . .\n",
      "O modelo foi treinado em 0.0050 segundos\n",
      "As previsões foram feitas em 0.0000 segundos.\n",
      "As previsões foram feitas em 0.0000 segundos.\n",
      "Pontuação accuracy_score para o conjunto de treino: 0.9825.\n",
      "Pontuação accuracy_score para o conjunto de teste: 0.3000.\n",
      "\n",
      "Treinando um SVC com 114 pontos de treinamento. . .\n",
      "O modelo foi treinado em 0.0140 segundos\n",
      "As previsões foram feitas em 0.0070 segundos.\n",
      "As previsões foram feitas em 0.0010 segundos.\n",
      "Pontuação accuracy_score para o conjunto de treino: 0.2719.\n",
      "Pontuação accuracy_score para o conjunto de teste: 0.2000.\n",
      "\n"
     ]
    }
   ],
   "source": [
    "# Importar três modelos de aprendizagem supervisionada do sklearn\n",
    "# from sklearn import model_A\n",
    "from sklearn.linear_model import LogisticRegression\n",
    "# from sklearn import model_B\n",
    "from sklearn.tree import DecisionTreeClassifier\n",
    "# from skearln import model_C\n",
    "from sklearn.svm import SVC\n",
    "\n",
    "# TODO: Inicialize os três modelos\n",
    "clf_A = LogisticRegression(random_state=custom_random_state)\n",
    "clf_B = DecisionTreeClassifier(random_state=custom_random_state)\n",
    "clf_C = SVC(random_state=custom_random_state)\n",
    "\n",
    "# Cria array de classificadores e dataframe de resultados\n",
    "clfs = [clf_A, clf_B, clf_C]\n",
    "df_A = None\n",
    "df_B = None\n",
    "df_C = None\n",
    "dfs = [df_A, df_B, df_C]\n",
    "\n",
    "# Executar a função 'train_predict' para cada classificador e cada tamanho de conjunto de treinamento\n",
    "# train_predict(clf, X_train, y_train, X_test, y_test)\n",
    "for i, x in enumerate(clfs):\n",
    "    train_predict(clfs[i], X_train, y_train, X_test, y_test)\n",
    "    print ''\n",
    "    dfs[i] = df_model.copy()\n",
    "    df_model = df_backup.copy()"
   ]
  },
  {
   "cell_type": "code",
   "execution_count": 46,
   "metadata": {},
   "outputs": [
    {
     "name": "stdout",
     "output_type": "stream",
     "text": [
      "\u001b[1m\u001b[4m\n",
      "Classificador 1 - LogisticRegression\u001b[0m\n"
     ]
    },
    {
     "data": {
      "text/markdown": [
       "Tamanho do Conj de Treinamento|Tempo de Treinamento|Tempo de Estimativa (teste)|Pontuacao Accuracy (treinamento)|Pontuacao Accuracy (teste)\n",
       "---|---|---|---|---\n",
       "114|0.0070 seg|0.0010 seg|0.9649.|0.4000.\n"
      ],
      "text/plain": [
       "<IPython.core.display.Markdown object>"
      ]
     },
     "metadata": {},
     "output_type": "display_data"
    },
    {
     "name": "stdout",
     "output_type": "stream",
     "text": [
      "\u001b[1m\u001b[4m\n",
      "Classificador 2 - DecisionTreeClassifier\u001b[0m\n"
     ]
    },
    {
     "data": {
      "text/markdown": [
       "Tamanho do Conj de Treinamento|Tempo de Treinamento|Tempo de Estimativa (teste)|Pontuacao Accuracy (treinamento)|Pontuacao Accuracy (teste)\n",
       "---|---|---|---|---\n",
       "114|0.0050 seg|0.0000 seg|0.9825.|0.3000.\n"
      ],
      "text/plain": [
       "<IPython.core.display.Markdown object>"
      ]
     },
     "metadata": {},
     "output_type": "display_data"
    },
    {
     "name": "stdout",
     "output_type": "stream",
     "text": [
      "\u001b[1m\u001b[4m\n",
      "Classificador 3 - SVC\u001b[0m\n"
     ]
    },
    {
     "data": {
      "text/markdown": [
       "Tamanho do Conj de Treinamento|Tempo de Treinamento|Tempo de Estimativa (teste)|Pontuacao Accuracy (treinamento)|Pontuacao Accuracy (teste)\n",
       "---|---|---|---|---\n",
       "114|0.0140 seg|0.0010 seg|0.2719.|0.2000.\n"
      ],
      "text/plain": [
       "<IPython.core.display.Markdown object>"
      ]
     },
     "metadata": {},
     "output_type": "display_data"
    }
   ],
   "source": [
    "#Exibindo tabelas automaticamente\n",
    "for i, x in enumerate(clfs):\n",
    "    print '\\033[1m' + '\\033[4m' + \"\\nClassificador \" + str(i+1) + ' - ' + clfs[i].__class__.__name__ + '\\033[0m'\n",
    "    pandas_df_to_markdown_table(dfs[i])"
   ]
  },
  {
   "cell_type": "markdown",
   "metadata": {},
   "source": [
    "### Calibrando o Melhor Modelo"
   ]
  },
  {
   "cell_type": "code",
   "execution_count": 47,
   "metadata": {},
   "outputs": [
    {
     "name": "stdout",
     "output_type": "stream",
     "text": [
      "As previsões foram feitas em 0.0010 segundos.\n",
      "As previsões foram feitas em 0.0000 segundos.\n",
      "\n",
      "O modelo calibrado tem Accuracy de 0.9649 no conjunto de treinamento.\n",
      "O modelo calibrado tem Accuracy de 0.4000 no conjunto de teste.\n",
      "\n",
      "Melhores parametros:\n",
      "C = 1\n",
      "class_weight = balanced\n"
     ]
    }
   ],
   "source": [
    "# TODO: Importe 'GridSearchCV' e 'make_scorer'\n",
    "from sklearn.grid_search import GridSearchCV\n",
    "from sklearn.metrics import fbeta_score, make_scorer\n",
    "\n",
    "# Novo embaralhamento para busca de parametros\n",
    "X_train_cv, X_test_cv, y_train_cv, y_test_cv = train_test_split(X_all, y_all, test_size=num_test, random_state=custom_random_state)\n",
    "\n",
    "# TODO: Crie a lista de parâmetros que você gostaria de calibrar\n",
    "C = range(1, 10)\n",
    "class_weight = ['balanced', None]\n",
    "parameters = {'C': C,\n",
    "              'class_weight': class_weight}\n",
    "\n",
    "# TODO: Inicialize o classificador\n",
    "clf = LogisticRegression(random_state=custom_random_state)\n",
    "\n",
    "# TODO: Faça uma função de pontuação f1 utilizando 'make_scorer' \n",
    "f1_scorer = make_scorer(accuracy_score)\n",
    "\n",
    "# TODO: Execute uma busca em matriz no classificador utilizando o f1_scorer como método de pontuação\n",
    "grid_obj = GridSearchCV(clf, parameters, scoring=f1_scorer, cv=5, verbose=0)\n",
    "\n",
    "# TODO: Ajuste o objeto de busca em matriz para o treinamento de dados e encontre os parâmetros ótimos\n",
    "grid_obj.fit(X_train_cv, y_train_cv)\n",
    "\n",
    "# Get the estimator\n",
    "clf = grid_obj.best_estimator_\n",
    "\n",
    "# Reporte a pontuação final F1 para treinamento e teste depois de calibrar os parâmetros\n",
    "tuned_f1_train = \"{:.4f}\".format(predict_labels(clf, X_train, y_train))\n",
    "tuned_f1_test = \"{:.4f}\".format(predict_labels(clf, X_test, y_test))\n",
    "print \"\\nO modelo calibrado tem Accuracy de \" + tuned_f1_train + \" no conjunto de treinamento.\"\n",
    "print \"O modelo calibrado tem Accuracy de \" + tuned_f1_test + \" no conjunto de teste.\"\n",
    "\n",
    "print \"\\nMelhores parametros:\"\n",
    "print \"C = \" + str(grid_obj.best_params_['C'])\n",
    "print \"class_weight = \" + str(grid_obj.best_params_['class_weight'])\n",
    "\n",
    "df_tuned = dfs[0].copy()\n",
    "df_tuned.loc[:, col_4] = tuned_f1_train\n",
    "df_tuned.loc[:, col_5] = tuned_f1_test"
   ]
  },
  {
   "cell_type": "code",
   "execution_count": 48,
   "metadata": {},
   "outputs": [
    {
     "name": "stdout",
     "output_type": "stream",
     "text": [
      "\u001b[1m\u001b[4m\n",
      "Antes: LogisticRegression\u001b[0m\n"
     ]
    },
    {
     "data": {
      "text/markdown": [
       "Tamanho do Conj de Treinamento|Pontuacao Accuracy (treinamento)|Pontuacao Accuracy (teste)\n",
       "---|---|---\n",
       "114|0.9825.|0.3000.\n"
      ],
      "text/plain": [
       "<IPython.core.display.Markdown object>"
      ]
     },
     "metadata": {},
     "output_type": "display_data"
    },
    {
     "name": "stdout",
     "output_type": "stream",
     "text": [
      "\u001b[1m\u001b[4m\n",
      "Depois: LogisticRegression\u001b[0m\n"
     ]
    },
    {
     "data": {
      "text/markdown": [
       "Tamanho do Conj de Treinamento|Pontuacao Accuracy (treinamento)|Pontuacao Accuracy (teste)\n",
       "---|---|---\n",
       "114|0.9649|0.4000\n"
      ],
      "text/plain": [
       "<IPython.core.display.Markdown object>"
      ]
     },
     "metadata": {},
     "output_type": "display_data"
    }
   ],
   "source": [
    "print '\\033[1m' + '\\033[4m' + \"\\nAntes: \" + clf.__class__.__name__ + '\\033[0m'\n",
    "pandas_df_to_markdown_table(dfs[1].loc[:,[col_1, col_4, col_5]])\n",
    "\n",
    "print '\\033[1m' + '\\033[4m' + \"\\nDepois: \" + clf.__class__.__name__ + '\\033[0m'\n",
    "pandas_df_to_markdown_table(df_tuned.loc[:,[col_1, col_4, col_5]])"
   ]
  },
  {
   "cell_type": "markdown",
   "metadata": {},
   "source": [
    "### Analisando um artigo\n"
   ]
  },
  {
   "cell_type": "code",
   "execution_count": 49,
   "metadata": {},
   "outputs": [
    {
     "data": {
      "text/html": [
       "<div>\n",
       "<style scoped>\n",
       "    .dataframe tbody tr th:only-of-type {\n",
       "        vertical-align: middle;\n",
       "    }\n",
       "\n",
       "    .dataframe tbody tr th {\n",
       "        vertical-align: top;\n",
       "    }\n",
       "\n",
       "    .dataframe thead th {\n",
       "        text-align: right;\n",
       "    }\n",
       "</style>\n",
       "<table border=\"1\" class=\"dataframe\">\n",
       "  <thead>\n",
       "    <tr style=\"text-align: right;\">\n",
       "      <th></th>\n",
       "      <th>Basic &amp; clinical pharmacology &amp; toxicology</th>\n",
       "      <th>Child psychiatry and human development</th>\n",
       "      <th>Clinical psychology &amp; psychotherapy</th>\n",
       "      <th>Drug and alcohol dependence</th>\n",
       "      <th>Journal of affective disorders</th>\n",
       "      <th>Neuropharmacology</th>\n",
       "      <th>Psychiatry investigation</th>\n",
       "    </tr>\n",
       "  </thead>\n",
       "  <tbody>\n",
       "    <tr>\n",
       "      <th>10.1111/bcpt.12993</th>\n",
       "      <td>0.125536</td>\n",
       "      <td>0.0768155</td>\n",
       "      <td>0.351774</td>\n",
       "      <td>0.0944865</td>\n",
       "      <td>0.0847408</td>\n",
       "      <td>0.124224</td>\n",
       "      <td>0.142422</td>\n",
       "    </tr>\n",
       "    <tr>\n",
       "      <th>10.1016/j.drugalcdep.2017.12.011</th>\n",
       "      <td>0.127419</td>\n",
       "      <td>0.0784315</td>\n",
       "      <td>0.106439</td>\n",
       "      <td>0.370557</td>\n",
       "      <td>0.0893853</td>\n",
       "      <td>0.128691</td>\n",
       "      <td>0.0990775</td>\n",
       "    </tr>\n",
       "    <tr>\n",
       "      <th>10.1111/bcpt.12996</th>\n",
       "      <td>0.125536</td>\n",
       "      <td>0.0768155</td>\n",
       "      <td>0.351774</td>\n",
       "      <td>0.0944865</td>\n",
       "      <td>0.0847408</td>\n",
       "      <td>0.124224</td>\n",
       "      <td>0.142422</td>\n",
       "    </tr>\n",
       "    <tr>\n",
       "      <th>10.1016/j.jad.2018.02.036</th>\n",
       "      <td>0.0648422</td>\n",
       "      <td>0.155424</td>\n",
       "      <td>0.217253</td>\n",
       "      <td>0.0533491</td>\n",
       "      <td>0.366783</td>\n",
       "      <td>0.0838562</td>\n",
       "      <td>0.0584917</td>\n",
       "    </tr>\n",
       "    <tr>\n",
       "      <th>10.30773/pi.2017.06.25</th>\n",
       "      <td>0.110933</td>\n",
       "      <td>0.116113</td>\n",
       "      <td>0.160437</td>\n",
       "      <td>0.092552</td>\n",
       "      <td>0.107292</td>\n",
       "      <td>0.153235</td>\n",
       "      <td>0.259437</td>\n",
       "    </tr>\n",
       "    <tr>\n",
       "      <th>10.30773/pi.2017.06.07</th>\n",
       "      <td>0.177128</td>\n",
       "      <td>0.103544</td>\n",
       "      <td>0.137864</td>\n",
       "      <td>0.141699</td>\n",
       "      <td>0.125066</td>\n",
       "      <td>0.173892</td>\n",
       "      <td>0.140807</td>\n",
       "    </tr>\n",
       "    <tr>\n",
       "      <th>10.1002/cpp.2172</th>\n",
       "      <td>0.08811</td>\n",
       "      <td>0.054104</td>\n",
       "      <td>0.44174</td>\n",
       "      <td>0.139613</td>\n",
       "      <td>0.0939596</td>\n",
       "      <td>0.0832956</td>\n",
       "      <td>0.0991785</td>\n",
       "    </tr>\n",
       "    <tr>\n",
       "      <th>10.1111/bcpt.12994</th>\n",
       "      <td>0.165861</td>\n",
       "      <td>0.0926706</td>\n",
       "      <td>0.124982</td>\n",
       "      <td>0.158042</td>\n",
       "      <td>0.173807</td>\n",
       "      <td>0.160001</td>\n",
       "      <td>0.124636</td>\n",
       "    </tr>\n",
       "    <tr>\n",
       "      <th>10.1016/j.drugalcdep.2018.01.006</th>\n",
       "      <td>0.177128</td>\n",
       "      <td>0.103544</td>\n",
       "      <td>0.137864</td>\n",
       "      <td>0.141699</td>\n",
       "      <td>0.125066</td>\n",
       "      <td>0.173892</td>\n",
       "      <td>0.140807</td>\n",
       "    </tr>\n",
       "    <tr>\n",
       "      <th>10.1016/j.neuropharm.2018.02.031</th>\n",
       "      <td>0.0739497</td>\n",
       "      <td>0.0672603</td>\n",
       "      <td>0.0743332</td>\n",
       "      <td>0.420671</td>\n",
       "      <td>0.0537911</td>\n",
       "      <td>0.177277</td>\n",
       "      <td>0.132718</td>\n",
       "    </tr>\n",
       "  </tbody>\n",
       "</table>\n",
       "</div>"
      ],
      "text/plain": [
       "                                 Basic & clinical pharmacology & toxicology  \\\n",
       "10.1111/bcpt.12993                                                 0.125536   \n",
       "10.1016/j.drugalcdep.2017.12.011                                   0.127419   \n",
       "10.1111/bcpt.12996                                                 0.125536   \n",
       "10.1016/j.jad.2018.02.036                                         0.0648422   \n",
       "10.30773/pi.2017.06.25                                             0.110933   \n",
       "10.30773/pi.2017.06.07                                             0.177128   \n",
       "10.1002/cpp.2172                                                    0.08811   \n",
       "10.1111/bcpt.12994                                                 0.165861   \n",
       "10.1016/j.drugalcdep.2018.01.006                                   0.177128   \n",
       "10.1016/j.neuropharm.2018.02.031                                  0.0739497   \n",
       "\n",
       "                                 Child psychiatry and human development  \\\n",
       "10.1111/bcpt.12993                                            0.0768155   \n",
       "10.1016/j.drugalcdep.2017.12.011                              0.0784315   \n",
       "10.1111/bcpt.12996                                            0.0768155   \n",
       "10.1016/j.jad.2018.02.036                                      0.155424   \n",
       "10.30773/pi.2017.06.25                                         0.116113   \n",
       "10.30773/pi.2017.06.07                                         0.103544   \n",
       "10.1002/cpp.2172                                               0.054104   \n",
       "10.1111/bcpt.12994                                            0.0926706   \n",
       "10.1016/j.drugalcdep.2018.01.006                               0.103544   \n",
       "10.1016/j.neuropharm.2018.02.031                              0.0672603   \n",
       "\n",
       "                                 Clinical psychology & psychotherapy  \\\n",
       "10.1111/bcpt.12993                                          0.351774   \n",
       "10.1016/j.drugalcdep.2017.12.011                            0.106439   \n",
       "10.1111/bcpt.12996                                          0.351774   \n",
       "10.1016/j.jad.2018.02.036                                   0.217253   \n",
       "10.30773/pi.2017.06.25                                      0.160437   \n",
       "10.30773/pi.2017.06.07                                      0.137864   \n",
       "10.1002/cpp.2172                                             0.44174   \n",
       "10.1111/bcpt.12994                                          0.124982   \n",
       "10.1016/j.drugalcdep.2018.01.006                            0.137864   \n",
       "10.1016/j.neuropharm.2018.02.031                           0.0743332   \n",
       "\n",
       "                                 Drug and alcohol dependence  \\\n",
       "10.1111/bcpt.12993                                 0.0944865   \n",
       "10.1016/j.drugalcdep.2017.12.011                    0.370557   \n",
       "10.1111/bcpt.12996                                 0.0944865   \n",
       "10.1016/j.jad.2018.02.036                          0.0533491   \n",
       "10.30773/pi.2017.06.25                              0.092552   \n",
       "10.30773/pi.2017.06.07                              0.141699   \n",
       "10.1002/cpp.2172                                    0.139613   \n",
       "10.1111/bcpt.12994                                  0.158042   \n",
       "10.1016/j.drugalcdep.2018.01.006                    0.141699   \n",
       "10.1016/j.neuropharm.2018.02.031                    0.420671   \n",
       "\n",
       "                                 Journal of affective disorders  \\\n",
       "10.1111/bcpt.12993                                    0.0847408   \n",
       "10.1016/j.drugalcdep.2017.12.011                      0.0893853   \n",
       "10.1111/bcpt.12996                                    0.0847408   \n",
       "10.1016/j.jad.2018.02.036                              0.366783   \n",
       "10.30773/pi.2017.06.25                                 0.107292   \n",
       "10.30773/pi.2017.06.07                                 0.125066   \n",
       "10.1002/cpp.2172                                      0.0939596   \n",
       "10.1111/bcpt.12994                                     0.173807   \n",
       "10.1016/j.drugalcdep.2018.01.006                       0.125066   \n",
       "10.1016/j.neuropharm.2018.02.031                      0.0537911   \n",
       "\n",
       "                                 Neuropharmacology Psychiatry investigation  \n",
       "10.1111/bcpt.12993                        0.124224                 0.142422  \n",
       "10.1016/j.drugalcdep.2017.12.011          0.128691                0.0990775  \n",
       "10.1111/bcpt.12996                        0.124224                 0.142422  \n",
       "10.1016/j.jad.2018.02.036                0.0838562                0.0584917  \n",
       "10.30773/pi.2017.06.25                    0.153235                 0.259437  \n",
       "10.30773/pi.2017.06.07                    0.173892                 0.140807  \n",
       "10.1002/cpp.2172                         0.0832956                0.0991785  \n",
       "10.1111/bcpt.12994                        0.160001                 0.124636  \n",
       "10.1016/j.drugalcdep.2018.01.006          0.173892                 0.140807  \n",
       "10.1016/j.neuropharm.2018.02.031          0.177277                 0.132718  "
      ]
     },
     "metadata": {},
     "output_type": "display_data"
    }
   ],
   "source": [
    "preds = clf.predict_proba(X_test)\n",
    "\n",
    "for i, x in enumerate(preds):\n",
    "    for r, y in enumerate(result_df.columns):\n",
    "        result_df.loc[X_test.index[i], result_df.columns[r]] = preds[i][r]\n",
    "    \n",
    "display(result_df)"
   ]
  },
  {
   "cell_type": "markdown",
   "metadata": {},
   "source": [
    "### Entendimento dos Resultados\n",
    "\n",
    "O artigo abaixo, dentro das predições, teve sucesso no resultado."
   ]
  },
  {
   "cell_type": "code",
   "execution_count": 50,
   "metadata": {},
   "outputs": [
    {
     "name": "stdout",
     "output_type": "stream",
     "text": [
      "DOI:      10.1016/j.jad.2018.02.036\n",
      "PUB DATE: 28/Feb/2018\n",
      "JOURNAL:  Journal of affective disorders\n",
      "TITLE:    The prevalence and correlates of severe depression in a cohort of Mexican teachers.\n",
      "ABSTRACT: \n",
      "Depression is among the 10 major causes of disability in Mexico. Yet, local contextual factors associated to the disorder remain poorly understood. We measured the impact of several factors on severe depression such as demographics, pharmacotherapy, multimorbidity, and unhealthy behaviors in Mexican teachers.\n",
      "A total of 43,845 Mexican female teachers from 12 Mexican states answered the Patient Health Questionnaire (PHQ9). Data were part the Mexican Teacher's Cohort prospective study, the largest ongoing cohort study in Latin America. Unadjusted and adjusted estimates assessed the impact of several contextual factors between severe versus mild-no depression cases.\n",
      "In total 7026 teachers (16%) had a PHQ9 score compatible with severe depression. From them, only 17% received psychotropics, compared to 60% for those with a formal diagnosis. Less than 5% of teachers with PHQ9 scores compatible with severe depression had a formal diagnosis. Adjusted analysis reported higher odds of pharmacotherapy, having ≥ 3 comorbidities, higher levels of couple, family and work stress, fewer hours of vigorous physical activity, higher alcohol consumption, and smoking as risk factors for severe depression. Also, rural residents of northern and center states appeared more severely depressed compared to their urban counterparts. On average, the PHQ9 scores differed by ~ 10 points between severe and mild-no depressed teachers.\n",
      "A cross-sectional design. Also, the study focused on female teachers between ages 25 and 74 years old, reducing the generalizability of the estimates.\n",
      "Under-diagnosis of clinical depression in Mexican teachers is concerning. Unhealthy behavior is associated with severe depression. The information collected in this study represents an opportunity to build prevention mechanisms of depression in high-risk subgroups of female educators and warrants improving access to mental care in Mexico.\n"
     ]
    }
   ],
   "source": [
    "show_article = None\n",
    "for filename in glob.glob(os.path.join(path, '*.xml')):\n",
    "    root = xml.etree.ElementTree.parse(filename).getroot()\n",
    "    article = ArticleData(root)\n",
    "    if(article.doi == result_df.index[3]):\n",
    "        show_article = article\n",
    "        break\n",
    "        \n",
    "print('DOI:      ' + article.doi)\n",
    "print('PUB DATE: ' + article.pub_date)\n",
    "print('JOURNAL:  ' + article.journal.title)\n",
    "print('TITLE:    ' + article.article_title)\n",
    "print('ABSTRACT: ' + article.abstract_text)"
   ]
  },
  {
   "cell_type": "markdown",
   "metadata": {},
   "source": [
    "### Redução de Dimensionalidade\n"
   ]
  },
  {
   "cell_type": "code",
   "execution_count": 51,
   "metadata": {},
   "outputs": [
    {
     "name": "stdout",
     "output_type": "stream",
     "text": [
      "Variância dos 7 primeiros componentes:\n",
      "[ 0.03851299  0.07224977  0.10255487  0.12710628  0.14979802  0.17123305\n",
      "  0.19130506]\n",
      "Os 7 componentes representam 0.852760048633% da variância total\n"
     ]
    },
    {
     "data": {
      "text/html": [
       "<div>\n",
       "<style scoped>\n",
       "    .dataframe tbody tr th:only-of-type {\n",
       "        vertical-align: middle;\n",
       "    }\n",
       "\n",
       "    .dataframe tbody tr th {\n",
       "        vertical-align: top;\n",
       "    }\n",
       "\n",
       "    .dataframe thead th {\n",
       "        text-align: right;\n",
       "    }\n",
       "</style>\n",
       "<table border=\"1\" class=\"dataframe\">\n",
       "  <thead>\n",
       "    <tr style=\"text-align: right;\">\n",
       "      <th></th>\n",
       "      <th>Dim 1</th>\n",
       "      <th>Dim 2</th>\n",
       "      <th>Dim 3</th>\n",
       "      <th>Dim 4</th>\n",
       "      <th>Dim 5</th>\n",
       "      <th>Dim 6</th>\n",
       "      <th>Dim 7</th>\n",
       "    </tr>\n",
       "  </thead>\n",
       "  <tbody>\n",
       "    <tr>\n",
       "      <th>0</th>\n",
       "      <td>-0.383947</td>\n",
       "      <td>0.112655</td>\n",
       "      <td>0.722171</td>\n",
       "      <td>-0.322698</td>\n",
       "      <td>-0.133738</td>\n",
       "      <td>-0.162509</td>\n",
       "      <td>-0.011725</td>\n",
       "    </tr>\n",
       "    <tr>\n",
       "      <th>1</th>\n",
       "      <td>0.918519</td>\n",
       "      <td>-0.640690</td>\n",
       "      <td>-0.130259</td>\n",
       "      <td>0.024689</td>\n",
       "      <td>-0.210888</td>\n",
       "      <td>-0.356664</td>\n",
       "      <td>0.102847</td>\n",
       "    </tr>\n",
       "    <tr>\n",
       "      <th>2</th>\n",
       "      <td>-0.379016</td>\n",
       "      <td>-0.152145</td>\n",
       "      <td>-0.185534</td>\n",
       "      <td>0.240772</td>\n",
       "      <td>-0.337908</td>\n",
       "      <td>0.043962</td>\n",
       "      <td>0.013607</td>\n",
       "    </tr>\n",
       "    <tr>\n",
       "      <th>3</th>\n",
       "      <td>-0.343794</td>\n",
       "      <td>-0.260228</td>\n",
       "      <td>-0.123426</td>\n",
       "      <td>0.372853</td>\n",
       "      <td>-0.491186</td>\n",
       "      <td>0.463663</td>\n",
       "      <td>0.171631</td>\n",
       "    </tr>\n",
       "    <tr>\n",
       "      <th>4</th>\n",
       "      <td>-0.240803</td>\n",
       "      <td>-0.060344</td>\n",
       "      <td>-0.147540</td>\n",
       "      <td>0.028745</td>\n",
       "      <td>-0.065772</td>\n",
       "      <td>-0.108370</td>\n",
       "      <td>-0.033234</td>\n",
       "    </tr>\n",
       "  </tbody>\n",
       "</table>\n",
       "</div>"
      ],
      "text/plain": [
       "      Dim 1     Dim 2     Dim 3     Dim 4     Dim 5     Dim 6     Dim 7\n",
       "0 -0.383947  0.112655  0.722171 -0.322698 -0.133738 -0.162509 -0.011725\n",
       "1  0.918519 -0.640690 -0.130259  0.024689 -0.210888 -0.356664  0.102847\n",
       "2 -0.379016 -0.152145 -0.185534  0.240772 -0.337908  0.043962  0.013607\n",
       "3 -0.343794 -0.260228 -0.123426  0.372853 -0.491186  0.463663  0.171631\n",
       "4 -0.240803 -0.060344 -0.147540  0.028745 -0.065772 -0.108370 -0.033234"
      ]
     },
     "execution_count": 51,
     "metadata": {},
     "output_type": "execute_result"
    }
   ],
   "source": [
    "from sklearn.decomposition import PCA\n",
    "\n",
    "pca = PCA(n_components=7)\n",
    "pca.fit(X_all)\n",
    "\n",
    "reduced_data = pca.transform(X_all)\n",
    "pca_samples = pca.transform(X_test)\n",
    "print(\"Variância dos 7 primeiros componentes:\")\n",
    "print(np.cumsum(pca.explained_variance_ratio_))\n",
    "print(\"Os 7 componentes representam \" + str(sum(np.cumsum(pca.explained_variance_ratio_))) + \"% da variância total\")\n",
    "\n",
    "reduced_data = pd.DataFrame(reduced_data, columns = ['Dim 1', 'Dim 2', 'Dim 3', 'Dim 4', 'Dim 5', 'Dim 6', 'Dim 7'])\n",
    "reduced_data.head(5)"
   ]
  },
  {
   "cell_type": "code",
   "execution_count": 52,
   "metadata": {},
   "outputs": [
    {
     "data": {
      "image/png": "[encoded data removed]",
      "text/plain": [
       "<matplotlib.figure.Figure at 0x15ec6530>"
      ]
     },
     "metadata": {},
     "output_type": "display_data"
    }
   ],
   "source": [
    "pd.plotting.scatter_matrix(reduced_data, figsize = (10,6));"
   ]
  },
  {
   "cell_type": "code",
   "execution_count": 53,
   "metadata": {},
   "outputs": [
    {
     "name": "stdout",
     "output_type": "stream",
     "text": [
      "Numero de cluster: 5 score: 0.305383342073\n",
      "Numero de cluster: 6 score: 0.354630535747\n",
      "Numero de cluster: 7 score: 0.269748677378\n",
      "Numero de cluster: 8 score: 0.423426297449\n",
      "Numero de cluster: 9 score: 0.418020165928\n",
      "\n",
      "Melhor Score: 0.423426297449\n"
     ]
    }
   ],
   "source": [
    "from sklearn.mixture import GaussianMixture\n",
    "from sklearn.cluster import KMeans\n",
    "from sklearn.metrics import silhouette_score\n",
    "\n",
    "clusters = [5, 6, 7, 8, 9]\n",
    "scores = []\n",
    "score = 0\n",
    "\n",
    "for n_cluster in clusters:\n",
    "    # TODO: Aplique o algoritmo de clustering de sua escolha aos dados reduzidos \n",
    "    clusterer = GaussianMixture(n_components = n_cluster, random_state = 35)\n",
    "    clusterer.fit(reduced_data)\n",
    "    \n",
    "    # TODO: Preveja o cluster para cada ponto de dado\n",
    "    preds = clusterer.predict(reduced_data)\n",
    "\n",
    "    # TODO: Ache os centros do cluster\n",
    "    centers = clusterer.means_\n",
    "\n",
    "    # TODO: Preveja o cluster para cada amostra de pontos de dado transformados\n",
    "    sample_preds = clusterer.predict(pca_samples)\n",
    "\n",
    "    # TODO: Calcule a média do coeficiente de silhueta para o número de clusters escolhidos\n",
    "    current_score = silhouette_score(reduced_data,preds)    \n",
    "    scores.append(current_score)\n",
    "\n",
    "\n",
    "for index in range(len(clusters)):\n",
    "    print 'Numero de cluster: ' + str(clusters[index]) + ' score: ' + str(scores[index])\n",
    "\n",
    "# refazendo com o melhor Score\n",
    "clusterer = GaussianMixture(n_components = 8, random_state = 35)\n",
    "clusterer.fit(reduced_data)\n",
    "preds = clusterer.predict(reduced_data)\n",
    "centers = clusterer.means_\n",
    "sample_preds = clusterer.predict(pca_samples)\n",
    "score = scores[3]\n",
    "print '\\nMelhor Score: ' + str(score)"
   ]
  },
  {
   "cell_type": "code",
   "execution_count": 62,
   "metadata": {},
   "outputs": [],
   "source": [
    "import matplotlib.pyplot as plt\n",
    "import matplotlib.cm as cm\n",
    "import pandas as pd\n",
    "import numpy as np\n",
    "import seaborn as sns\n",
    "from sklearn.decomposition import pca\n",
    "\n",
    "def cluster_results(reduced_data, preds, centers, pca_samples):\n",
    "    '''\n",
    "    Visualizes the PCA-reduced cluster data in two dimensions\n",
    "    Adds cues for cluster centers and student-selected sample data\n",
    "    '''\n",
    "\n",
    "    predictions = pd.DataFrame(preds, columns = ['Cluster'])\n",
    "    plot_data = pd.concat([predictions, reduced_data], axis = 1)\n",
    "\n",
    "    # Generate the cluster plot\n",
    "    fig, ax = plt.subplots(figsize = (14,8))\n",
    "\n",
    "    # Color map\n",
    "    cmap = cm.get_cmap('gist_rainbow')\n",
    "\n",
    "    # Color the points based on assigned cluster\n",
    "    for i, cluster in plot_data.groupby('Cluster'):   \n",
    "        cluster.plot(ax = ax, kind = 'scatter', x = 'Dim 6', y = 'Dim 7', \\\n",
    "                     color = cmap((i)*1.0/(len(centers)-1)), label = 'Cluster %i'%(i), s=30);\n",
    "\n",
    "    # Plot centers with indicators\n",
    "    for i, c in enumerate(centers):\n",
    "        ax.scatter(x = c[0], y = c[1], color = 'white', edgecolors = 'black', \\\n",
    "                   alpha = 1, linewidth = 2, marker = 'o', s=200);\n",
    "        ax.scatter(x = c[0], y = c[1], marker='$%d$'%(i), alpha = 1, s=100);\n",
    "\n",
    "    # Plot transformed sample points \n",
    "    ax.scatter(x = pca_samples[:,0], y = pca_samples[:,1], \\\n",
    "               s = 150, linewidth = 4, color = 'black', marker = 'x');\n",
    "\n",
    "    # Set plot title\n",
    "    ax.set_title(\"Cluster Learning on PCA-Reduced Data - Centroids Marked by Number\\nTransformed Sample Data Marked by Black Cross\");"
   ]
  },
  {
   "cell_type": "code",
   "execution_count": 63,
   "metadata": {},
   "outputs": [
    {
     "data": {
      "image/png": "[encoded data removed]",
      "text/plain": [
       "<matplotlib.figure.Figure at 0x1a9955f0>"
      ]
     },
     "metadata": {},
     "output_type": "display_data"
    }
   ],
   "source": [
    "cluster_results(reduced_data, preds, centers, pca_samples)"
   ]
  },
  {
   "cell_type": "code",
   "execution_count": 64,
   "metadata": {},
   "outputs": [
    {
     "data": {
      "text/html": [
       "<div>\n",
       "<style scoped>\n",
       "    .dataframe tbody tr th:only-of-type {\n",
       "        vertical-align: middle;\n",
       "    }\n",
       "\n",
       "    .dataframe tbody tr th {\n",
       "        vertical-align: top;\n",
       "    }\n",
       "\n",
       "    .dataframe thead th {\n",
       "        text-align: right;\n",
       "    }\n",
       "</style>\n",
       "<table border=\"1\" class=\"dataframe\">\n",
       "  <thead>\n",
       "    <tr style=\"text-align: right;\">\n",
       "      <th></th>\n",
       "      <th>Basic &amp; clinical pharmacology &amp; toxicology</th>\n",
       "      <th>Child psychiatry and human development</th>\n",
       "      <th>Clinical psychology &amp; psychotherapy</th>\n",
       "      <th>Drug and alcohol dependence</th>\n",
       "      <th>Journal of affective disorders</th>\n",
       "      <th>Neuropharmacology</th>\n",
       "      <th>Psychiatry investigation</th>\n",
       "      <th>GROUP</th>\n",
       "    </tr>\n",
       "  </thead>\n",
       "  <tbody>\n",
       "    <tr>\n",
       "      <th>10.1111/bcpt.12993</th>\n",
       "      <td>0.125536</td>\n",
       "      <td>0.0768155</td>\n",
       "      <td>0.351774</td>\n",
       "      <td>0.0944865</td>\n",
       "      <td>0.0847408</td>\n",
       "      <td>0.124224</td>\n",
       "      <td>0.142422</td>\n",
       "      <td>5.0</td>\n",
       "    </tr>\n",
       "    <tr>\n",
       "      <th>10.1016/j.drugalcdep.2017.12.011</th>\n",
       "      <td>0.127419</td>\n",
       "      <td>0.0784315</td>\n",
       "      <td>0.106439</td>\n",
       "      <td>0.370557</td>\n",
       "      <td>0.0893853</td>\n",
       "      <td>0.128691</td>\n",
       "      <td>0.0990775</td>\n",
       "      <td>1.0</td>\n",
       "    </tr>\n",
       "    <tr>\n",
       "      <th>10.1111/bcpt.12996</th>\n",
       "      <td>0.125536</td>\n",
       "      <td>0.0768155</td>\n",
       "      <td>0.351774</td>\n",
       "      <td>0.0944865</td>\n",
       "      <td>0.0847408</td>\n",
       "      <td>0.124224</td>\n",
       "      <td>0.142422</td>\n",
       "      <td>5.0</td>\n",
       "    </tr>\n",
       "    <tr>\n",
       "      <th>10.1016/j.jad.2018.02.036</th>\n",
       "      <td>0.0648422</td>\n",
       "      <td>0.155424</td>\n",
       "      <td>0.217253</td>\n",
       "      <td>0.0533491</td>\n",
       "      <td>0.366783</td>\n",
       "      <td>0.0838562</td>\n",
       "      <td>0.0584917</td>\n",
       "      <td>4.0</td>\n",
       "    </tr>\n",
       "    <tr>\n",
       "      <th>10.30773/pi.2017.06.25</th>\n",
       "      <td>0.110933</td>\n",
       "      <td>0.116113</td>\n",
       "      <td>0.160437</td>\n",
       "      <td>0.092552</td>\n",
       "      <td>0.107292</td>\n",
       "      <td>0.153235</td>\n",
       "      <td>0.259437</td>\n",
       "      <td>1.0</td>\n",
       "    </tr>\n",
       "    <tr>\n",
       "      <th>10.30773/pi.2017.06.07</th>\n",
       "      <td>0.177128</td>\n",
       "      <td>0.103544</td>\n",
       "      <td>0.137864</td>\n",
       "      <td>0.141699</td>\n",
       "      <td>0.125066</td>\n",
       "      <td>0.173892</td>\n",
       "      <td>0.140807</td>\n",
       "      <td>1.0</td>\n",
       "    </tr>\n",
       "    <tr>\n",
       "      <th>10.1002/cpp.2172</th>\n",
       "      <td>0.08811</td>\n",
       "      <td>0.054104</td>\n",
       "      <td>0.44174</td>\n",
       "      <td>0.139613</td>\n",
       "      <td>0.0939596</td>\n",
       "      <td>0.0832956</td>\n",
       "      <td>0.0991785</td>\n",
       "      <td>5.0</td>\n",
       "    </tr>\n",
       "    <tr>\n",
       "      <th>10.1111/bcpt.12994</th>\n",
       "      <td>0.165861</td>\n",
       "      <td>0.0926706</td>\n",
       "      <td>0.124982</td>\n",
       "      <td>0.158042</td>\n",
       "      <td>0.173807</td>\n",
       "      <td>0.160001</td>\n",
       "      <td>0.124636</td>\n",
       "      <td>1.0</td>\n",
       "    </tr>\n",
       "    <tr>\n",
       "      <th>10.1016/j.drugalcdep.2018.01.006</th>\n",
       "      <td>0.177128</td>\n",
       "      <td>0.103544</td>\n",
       "      <td>0.137864</td>\n",
       "      <td>0.141699</td>\n",
       "      <td>0.125066</td>\n",
       "      <td>0.173892</td>\n",
       "      <td>0.140807</td>\n",
       "      <td>1.0</td>\n",
       "    </tr>\n",
       "    <tr>\n",
       "      <th>10.1016/j.neuropharm.2018.02.031</th>\n",
       "      <td>0.0739497</td>\n",
       "      <td>0.0672603</td>\n",
       "      <td>0.0743332</td>\n",
       "      <td>0.420671</td>\n",
       "      <td>0.0537911</td>\n",
       "      <td>0.177277</td>\n",
       "      <td>0.132718</td>\n",
       "      <td>1.0</td>\n",
       "    </tr>\n",
       "  </tbody>\n",
       "</table>\n",
       "</div>"
      ],
      "text/plain": [
       "                                 Basic & clinical pharmacology & toxicology  \\\n",
       "10.1111/bcpt.12993                                                 0.125536   \n",
       "10.1016/j.drugalcdep.2017.12.011                                   0.127419   \n",
       "10.1111/bcpt.12996                                                 0.125536   \n",
       "10.1016/j.jad.2018.02.036                                         0.0648422   \n",
       "10.30773/pi.2017.06.25                                             0.110933   \n",
       "10.30773/pi.2017.06.07                                             0.177128   \n",
       "10.1002/cpp.2172                                                    0.08811   \n",
       "10.1111/bcpt.12994                                                 0.165861   \n",
       "10.1016/j.drugalcdep.2018.01.006                                   0.177128   \n",
       "10.1016/j.neuropharm.2018.02.031                                  0.0739497   \n",
       "\n",
       "                                 Child psychiatry and human development  \\\n",
       "10.1111/bcpt.12993                                            0.0768155   \n",
       "10.1016/j.drugalcdep.2017.12.011                              0.0784315   \n",
       "10.1111/bcpt.12996                                            0.0768155   \n",
       "10.1016/j.jad.2018.02.036                                      0.155424   \n",
       "10.30773/pi.2017.06.25                                         0.116113   \n",
       "10.30773/pi.2017.06.07                                         0.103544   \n",
       "10.1002/cpp.2172                                               0.054104   \n",
       "10.1111/bcpt.12994                                            0.0926706   \n",
       "10.1016/j.drugalcdep.2018.01.006                               0.103544   \n",
       "10.1016/j.neuropharm.2018.02.031                              0.0672603   \n",
       "\n",
       "                                 Clinical psychology & psychotherapy  \\\n",
       "10.1111/bcpt.12993                                          0.351774   \n",
       "10.1016/j.drugalcdep.2017.12.011                            0.106439   \n",
       "10.1111/bcpt.12996                                          0.351774   \n",
       "10.1016/j.jad.2018.02.036                                   0.217253   \n",
       "10.30773/pi.2017.06.25                                      0.160437   \n",
       "10.30773/pi.2017.06.07                                      0.137864   \n",
       "10.1002/cpp.2172                                             0.44174   \n",
       "10.1111/bcpt.12994                                          0.124982   \n",
       "10.1016/j.drugalcdep.2018.01.006                            0.137864   \n",
       "10.1016/j.neuropharm.2018.02.031                           0.0743332   \n",
       "\n",
       "                                 Drug and alcohol dependence  \\\n",
       "10.1111/bcpt.12993                                 0.0944865   \n",
       "10.1016/j.drugalcdep.2017.12.011                    0.370557   \n",
       "10.1111/bcpt.12996                                 0.0944865   \n",
       "10.1016/j.jad.2018.02.036                          0.0533491   \n",
       "10.30773/pi.2017.06.25                              0.092552   \n",
       "10.30773/pi.2017.06.07                              0.141699   \n",
       "10.1002/cpp.2172                                    0.139613   \n",
       "10.1111/bcpt.12994                                  0.158042   \n",
       "10.1016/j.drugalcdep.2018.01.006                    0.141699   \n",
       "10.1016/j.neuropharm.2018.02.031                    0.420671   \n",
       "\n",
       "                                 Journal of affective disorders  \\\n",
       "10.1111/bcpt.12993                                    0.0847408   \n",
       "10.1016/j.drugalcdep.2017.12.011                      0.0893853   \n",
       "10.1111/bcpt.12996                                    0.0847408   \n",
       "10.1016/j.jad.2018.02.036                              0.366783   \n",
       "10.30773/pi.2017.06.25                                 0.107292   \n",
       "10.30773/pi.2017.06.07                                 0.125066   \n",
       "10.1002/cpp.2172                                      0.0939596   \n",
       "10.1111/bcpt.12994                                     0.173807   \n",
       "10.1016/j.drugalcdep.2018.01.006                       0.125066   \n",
       "10.1016/j.neuropharm.2018.02.031                      0.0537911   \n",
       "\n",
       "                                 Neuropharmacology Psychiatry investigation  \\\n",
       "10.1111/bcpt.12993                        0.124224                 0.142422   \n",
       "10.1016/j.drugalcdep.2017.12.011          0.128691                0.0990775   \n",
       "10.1111/bcpt.12996                        0.124224                 0.142422   \n",
       "10.1016/j.jad.2018.02.036                0.0838562                0.0584917   \n",
       "10.30773/pi.2017.06.25                    0.153235                 0.259437   \n",
       "10.30773/pi.2017.06.07                    0.173892                 0.140807   \n",
       "10.1002/cpp.2172                         0.0832956                0.0991785   \n",
       "10.1111/bcpt.12994                        0.160001                 0.124636   \n",
       "10.1016/j.drugalcdep.2018.01.006          0.173892                 0.140807   \n",
       "10.1016/j.neuropharm.2018.02.031          0.177277                 0.132718   \n",
       "\n",
       "                                  GROUP  \n",
       "10.1111/bcpt.12993                  5.0  \n",
       "10.1016/j.drugalcdep.2017.12.011    1.0  \n",
       "10.1111/bcpt.12996                  5.0  \n",
       "10.1016/j.jad.2018.02.036           4.0  \n",
       "10.30773/pi.2017.06.25              1.0  \n",
       "10.30773/pi.2017.06.07              1.0  \n",
       "10.1002/cpp.2172                    5.0  \n",
       "10.1111/bcpt.12994                  1.0  \n",
       "10.1016/j.drugalcdep.2018.01.006    1.0  \n",
       "10.1016/j.neuropharm.2018.02.031    1.0  "
      ]
     },
     "metadata": {},
     "output_type": "display_data"
    }
   ],
   "source": [
    "counter = 0\n",
    "for index, row in result_df.iterrows():\n",
    "    result_df.loc[index, 'GROUP'] = sample_preds[counter]\n",
    "    counter = counter + 1\n",
    "    \n",
    "display(result_df)"
   ]
  },
  {
   "cell_type": "code",
   "execution_count": 65,
   "metadata": {},
   "outputs": [
    {
     "name": "stdout",
     "output_type": "stream",
     "text": [
      "DOI:      10.1016/j.jad.2018.02.036\n",
      "PUB DATE: 28/Feb/2018\n",
      "JOURNAL:  Journal of affective disorders\n",
      "TITLE:    The prevalence and correlates of severe depression in a cohort of Mexican teachers.\n",
      "ABSTRACT: \n",
      "Depression is among the 10 major causes of disability in Mexico. Yet, local contextual factors associated to the disorder remain poorly understood. We measured the impact of several factors on severe depression such as demographics, pharmacotherapy, multimorbidity, and unhealthy behaviors in Mexican teachers.\n",
      "A total of 43,845 Mexican female teachers from 12 Mexican states answered the Patient Health Questionnaire (PHQ9). Data were part the Mexican Teacher's Cohort prospective study, the largest ongoing cohort study in Latin America. Unadjusted and adjusted estimates assessed the impact of several contextual factors between severe versus mild-no depression cases.\n",
      "In total 7026 teachers (16%) had a PHQ9 score compatible with severe depression. From them, only 17% received psychotropics, compared to 60% for those with a formal diagnosis. Less than 5% of teachers with PHQ9 scores compatible with severe depression had a formal diagnosis. Adjusted analysis reported higher odds of pharmacotherapy, having ≥ 3 comorbidities, higher levels of couple, family and work stress, fewer hours of vigorous physical activity, higher alcohol consumption, and smoking as risk factors for severe depression. Also, rural residents of northern and center states appeared more severely depressed compared to their urban counterparts. On average, the PHQ9 scores differed by ~ 10 points between severe and mild-no depressed teachers.\n",
      "A cross-sectional design. Also, the study focused on female teachers between ages 25 and 74 years old, reducing the generalizability of the estimates.\n",
      "Under-diagnosis of clinical depression in Mexican teachers is concerning. Unhealthy behavior is associated with severe depression. The information collected in this study represents an opportunity to build prevention mechanisms of depression in high-risk subgroups of female educators and warrants improving access to mental care in Mexico.\n"
     ]
    }
   ],
   "source": [
    "show_article = None\n",
    "for filename in glob.glob(os.path.join(path, '*.xml')):\n",
    "    root = xml.etree.ElementTree.parse(filename).getroot()\n",
    "    article = ArticleData(root)\n",
    "    if(article.doi == result_df.index[3]):\n",
    "        show_article = article\n",
    "        break\n",
    "        \n",
    "print('DOI:      ' + article.doi)\n",
    "print('PUB DATE: ' + article.pub_date)\n",
    "print('JOURNAL:  ' + article.journal.title)\n",
    "print('TITLE:    ' + article.article_title)\n",
    "print('ABSTRACT: ' + article.abstract_text)"
   ]
  },
  {
   "cell_type": "markdown",
   "metadata": {},
   "source": [
    "### FIM\n",
    "\n",
    "Resultados serão discutidos no relatório.\n"
   ]
  }
 ],
 "metadata": {
  "kernelspec": {
   "display_name": "Python 2",
   "language": "python",
   "name": "python2"
  },
  "language_info": {
   "codemirror_mode": {
    "name": "ipython",
    "version": 2
   },
   "file_extension": ".py",
   "mimetype": "text/x-python",
   "name": "python",
   "nbconvert_exporter": "python",
   "pygments_lexer": "ipython2",
   "version": "2.7.14"
  }
 },
 "nbformat": 4,
 "nbformat_minor": 1
}
